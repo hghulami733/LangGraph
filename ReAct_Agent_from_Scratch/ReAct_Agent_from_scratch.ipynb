{
 "cells": [
  {
   "cell_type": "code",
   "execution_count": null,
   "id": "6a4825c8",
   "metadata": {},
   "outputs": [],
   "source": [
    "import os\n",
    "from dotenv import load_dotenv\n",
    "from langchain.groq import ChatGroq\n",
    "import re\n",
    "import httpx\n"
   ]
  },
  {
   "cell_type": "code",
   "execution_count": null,
   "id": "5fc215e6",
   "metadata": {},
   "outputs": [],
   "source": [
    "load_dotenv()"
   ]
  },
  {
   "cell_type": "code",
   "execution_count": null,
   "id": "69e544dd",
   "metadata": {},
   "outputs": [],
   "source": [
    "GOOGLE_API_KEY=os.getenv(\"GOOGLE_API_KEY\")\n",
    "TAVILY_API_KEY=os.getenv(\"TAVILY_API_KEY\")\n",
    "GROQ_API_KEY=os.getenv(\"GROQ_API_KEY\")\n",
    "LANGCHAIN_API_KEY=os.getenv(\"LANGCHAIN_API_KEY\")\n",
    "LANGCHAIN_PROJECT=os.getenv(\"LANGCHAIN_PROJECT\")\n",
    "\n",
    "os.environ[\"GOOGLE_API_KEY\"] = GOOGLE_API_KEY\n",
    "#os.environ[\"TAVILY_API_KEY\"] = TAVILY_API_KEY\n",
    "os.environ[\"GROQ_API_KEY\"]= GROQ_API_KEY\n",
    "os. environ[\"LANGCHAIN_API_KEY\"] = LANGCHAIN_API_KEY\n",
    "os. environ[\"LANGCHAIN_TRACING_V2\"] = \"true\"\n",
    "os. environ[\"LANGCHAIN_ENDPOINT\"] = \"https://api.smith. langchain.com\"\n",
    "os. environ[\"LANGCHAIN_PROJECT\"]=LANGCHAIN_PROJECT"
   ]
  },
  {
   "cell_type": "code",
   "execution_count": null,
   "id": "68ca43b0",
   "metadata": {},
   "outputs": [],
   "source": [
    "groq_llm = ChatGroq(model_name=\"llama-groq-70b-8192-tool-use-preview\")\n",
    "\n",
    "groq_llm.invoke(\"Hi\").content"
   ]
  },
  {
   "cell_type": "code",
   "execution_count": null,
   "id": "d8c6abf0",
   "metadata": {},
   "outputs": [],
   "source": [
    "message = [{\"role\": \"system\", \"content\":\"You are a helpful assistant\"},\n",
    "           {\"role\": \"user\", \"content\": \"Hi, How are you?\"}]"
   ]
  },
  {
   "cell_type": "code",
   "execution_count": null,
   "id": "2035a455",
   "metadata": {},
   "outputs": [],
   "source": [
    "result = groq_llm.invoke(message)\n",
    "\n",
    "print(result.content)"
   ]
  },
  {
   "cell_type": "code",
   "execution_count": null,
   "id": "9f820ac2",
   "metadata": {},
   "outputs": [],
   "source": [
    "class ChatBot():\n",
    "    \n",
    "    def __init__(self, system=\"\"):\n",
    "        self.system = system\n",
    "        self.message = []\n",
    "        if self.system:\n",
    "            self.message.append({\"role\": \"system\", \"content\":system})\n",
    "\n",
    "    def __call__(self, message):\n",
    "        self.message.append({\"role\": \"user\", \"content\":message})\n",
    "        result = self.execute()\n",
    "        self.message.append({\"role\": \"assistant\", \"content\": result})\n",
    "\n",
    "        return result\n",
    "\n",
    "    def execute(self):\n",
    "        llm = ChatGroq(model_name=\"Gemma2-9b-It\")\n",
    "        result = llm.invoke(self.message)\n",
    "\n",
    "        return result.content\n"
   ]
  },
  {
   "cell_type": "code",
   "execution_count": null,
   "id": "d8778992",
   "metadata": {},
   "outputs": [],
   "source": [
    "prompt = \"\"\"\n",
    "\n",
    "You run in a loop of Thought, Action, PAUSE, Observation.\n",
    "At the end of the loop your output an Answer.\n",
    "Use Thought to describe your thoughts about the question you have been asked.\n",
    "Use Action to run one of the actions available to you - then return PAUSE.\n",
    "Observation will be the result of running those actions.\n",
    "\n",
    "Your available actions are:\n",
    "calculate:\n",
    "e.g. calculate: 4 * 7 / 3\n",
    "Runs a calculation and returns the number - uses Python so be sure to use floating point\n",
    "syntax if necessary\n",
    "\n",
    "wikipedia:\n",
    "e.g. wikipedia: Django\n",
    "Returns a summary from searching Wikipedia\n",
    "\n",
    "simon_blog_search:\n",
    "e.g. simon_blog_search: Python\n",
    "Search Simon's blog for that term\n",
    "\n",
    "Example session:\n",
    "Question: What is the capital of France?\n",
    "Thought: I should look up France on wikipedia\n",
    "Action: wikipedia: France\n",
    "PAUSE\n",
    "\n",
    "You will be called again with this:\n",
    "Observation: france is a country, the capital is Paris.\n",
    "\n",
    "You then output:\n",
    "Answer: The Capital of France is Paris\n",
    "\n",
    "Please note: if you get basic conversation questions like 'hi', 'hello', 'how are you?',\\n\n",
    "you have to answer 'hi', 'hello', 'i am good'\n",
    "\n",
    "\"\"\".strip()"
   ]
  },
  {
   "cell_type": "code",
   "execution_count": null,
   "id": "88af4914",
   "metadata": {},
   "outputs": [],
   "source": [
    "prompt_1 = \"\"\"You run in a loop of Thought, Action, PAUSE, Observation.\n",
    "At the end of the loop, you output an Answer related to fitness, health, or exercise.\n",
    "Use Thought to describe your thoughts about the question you have been asked.\n",
    "Use Action to run one of the actions available to you - then return PAUSE.\n",
    "Observation will be the result of running those actions.\n",
    "\n",
    "Your available actions are:\n",
    "\n",
    "calculate:\n",
    "e.g. calculate: 1800 * 0.2\n",
    "Runs a calculation (e.g., calorie intake, BMI, workout progress) and returns the result.\n",
    "\n",
    "fitness_wiki:\n",
    "e.g. fitness_wiki: Benefits of Cardio\n",
    "Returns a summary of fitness-related information from a fitness knowledge base (Wikipedia or similar).\n",
    "\n",
    "exercise_plan:\n",
    "e.g. exercise_plan: Beginner full-body workout\n",
    "Returns a recommended workout plan based on the type of exercise or user level.\n",
    "\n",
    "nutrition_info:\n",
    "e.g. nutrition_info: Protein sources for vegetarians\n",
    "Looks up nutritional information or suggestions for diets.\n",
    "\n",
    "Example session:\n",
    "Question: What are the benefits of cardio exercises?\n",
    "Thought: I should look up information about the benefits of cardio exercises.\n",
    "Action: fitness_wiki: Benefits of Cardio\n",
    "PAUSE\n",
    "\n",
    "You will be called again with this:\n",
    "\n",
    "Observation: Cardio exercises improve cardiovascular health, increase lung capacity, and aid in weight loss.\n",
    "\n",
    "You then output:\n",
    "\n",
    "Answer: Cardio exercises improve cardiovascular health, increase lung capacity, and help with weight loss.\n",
    "\"\"\".strip()"
   ]
  },
  {
   "cell_type": "code",
   "execution_count": null,
   "id": "455560ea",
   "metadata": {},
   "outputs": [],
   "source": [
    "action_re = re.compile(\"^Action: (\\w+): (.*)\")"
   ]
  },
  {
   "cell_type": "code",
   "execution_count": 6,
   "id": "3e45bae7",
   "metadata": {},
   "outputs": [],
   "source": [
    "def wikipedia(query):\n",
    "    response = httpx.get(\"https://en/wikipedia.org/w/api.php\", params={\n",
    "        \"action\": \"query\",\n",
    "        \"list\": \"search\",\n",
    "        \"srsearch\": query,\n",
    "        \"format\": \"json\"\n",
    "    })\n",
    "\n",
    "    return response.json()[\"query\"][\"search\"][0][\"snippet\"]"
   ]
  },
  {
   "cell_type": "code",
   "execution_count": null,
   "id": "3f65df64",
   "metadata": {},
   "outputs": [],
   "source": [
    "def simon_blog_search(query):\n",
    "    response = httpx.get(\"https://datasette.simonwillison.net/simonwillisonblog.json\", params={\n",
    "        \"sql\": \"\"\"\"\n",
    "        select\n",
    "        blog_entry.title || ': '|| substr(html_strip_tags(blog_entry.body), 0, 1000) as text,\n",
    "        blog_entry.created\n",
    "        from\n",
    "        blog_entry join blog_entry_fts on blog_entry.rowid = blog_entry_fts.rowid\n",
    "        where\n",
    "        blog_entry_fts match escape_fts(:q)\n",
    "        order by\n",
    "        blog_entry_fts.rank\n",
    "        limit\n",
    "        1\n",
    "        \"\"\".strip(),\n",
    "        \"_shape\": \"array\",\n",
    "        \"q\": query,\n",
    "    })\n",
    "    return response.json()[0][\"text\"]"
   ]
  },
  {
   "cell_type": "code",
   "execution_count": 1,
   "id": "5940bc29",
   "metadata": {},
   "outputs": [],
   "source": [
    "def calculator(number):\n",
    "    return eval(number)"
   ]
  },
  {
   "cell_type": "code",
   "execution_count": 4,
   "id": "8f6fe8c0",
   "metadata": {},
   "outputs": [
    {
     "data": {
      "text/plain": [
       "3"
      ]
     },
     "execution_count": 4,
     "metadata": {},
     "output_type": "execute_result"
    }
   ],
   "source": [
    "calculator(\"3\")"
   ]
  },
  {
   "cell_type": "code",
   "execution_count": null,
   "id": "a00b5584",
   "metadata": {},
   "outputs": [],
   "source": [
    "known_actions = {\n",
    "    \"wikipedia\": wikipedia,\n",
    "    \"calculator\": calculator,\n",
    "    \"simon_blog_search\": simon_blog_search\n",
    "}"
   ]
  },
  {
   "cell_type": "code",
   "execution_count": null,
   "id": "bea2d846",
   "metadata": {},
   "outputs": [],
   "source": [
    "def query(question, max_turen=5):\n",
    "    i = 0\n",
    "    bot = ChatBot(prompt)\n",
    "\n",
    "    next_prompt = question\n",
    "\n",
    "    while i < max_turen:\n",
    "        i += 1\n",
    "        result = bot(next_prompt)\n",
    "        print(result)\n",
    "\n",
    "        actions = [action_re.match(a) for a in result.split(\"\\n\") if action_re.match(a)]\n",
    "\n",
    "        if actions:\n",
    "            action, action_input = actions[0].groups()\n",
    "            if action not in known_actions:\n",
    "                raise Exception(f\"Unknown action: {action}: {action_input}\")\n",
    "            \n",
    "            print(\"-- running {} {}\".format(action, action_input))\n",
    "\n",
    "            observation = known_actions[action](action_input)\n",
    "            print(\"Observation: \", observation)\n",
    "            next_prompt = f\"Observation: {observation}\"\n",
    "\n",
    "        else:\n",
    "            return result"
   ]
  },
  {
   "cell_type": "code",
   "execution_count": null,
   "id": "5e127355",
   "metadata": {},
   "outputs": [],
   "source": [
    "next_prompt = \"Tell me about quantum computing from wikipedia\""
   ]
  },
  {
   "cell_type": "code",
   "execution_count": null,
   "id": "ecfcb873",
   "metadata": {},
   "outputs": [],
   "source": [
    "bot = ChatBot(prompt)"
   ]
  },
  {
   "cell_type": "code",
   "execution_count": null,
   "id": "6ef88264",
   "metadata": {},
   "outputs": [],
   "source": [
    "bot(next_prompt)"
   ]
  },
  {
   "cell_type": "code",
   "execution_count": null,
   "id": "5c6565bc",
   "metadata": {},
   "outputs": [],
   "source": [
    "query(\"hi\")"
   ]
  },
  {
   "cell_type": "code",
   "execution_count": null,
   "id": "99660b17",
   "metadata": {},
   "outputs": [],
   "source": [
    "query(\"How are you?\")"
   ]
  },
  {
   "cell_type": "code",
   "execution_count": null,
   "id": "c490f7c4",
   "metadata": {},
   "outputs": [],
   "source": [
    "query(\"Fifteen * twenty five\")"
   ]
  },
  {
   "cell_type": "code",
   "execution_count": null,
   "id": "342935d9",
   "metadata": {},
   "outputs": [],
   "source": [
    "query(\"Has Simon written about AI?\")"
   ]
  },
  {
   "cell_type": "code",
   "execution_count": null,
   "id": "362a7289",
   "metadata": {},
   "outputs": [],
   "source": [
    "query(\"tell me the capital of USA\")"
   ]
  }
 ],
 "metadata": {
  "kernelspec": {
   "display_name": "base",
   "language": "python",
   "name": "python3"
  },
  "language_info": {
   "codemirror_mode": {
    "name": "ipython",
    "version": 3
   },
   "file_extension": ".py",
   "mimetype": "text/x-python",
   "name": "python",
   "nbconvert_exporter": "python",
   "pygments_lexer": "ipython3",
   "version": "3.11.7"
  }
 },
 "nbformat": 4,
 "nbformat_minor": 5
}
