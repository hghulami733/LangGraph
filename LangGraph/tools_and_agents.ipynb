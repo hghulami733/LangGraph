{
 "cells": [
  {
   "cell_type": "code",
   "execution_count": null,
   "id": "67e9e87e",
   "metadata": {},
   "outputs": [],
   "source": [
    "import os\n",
    "from dotenv import load_dotenv\n",
    "from langchain_groq import ChatGroq\n",
    "from langchain_huggingface import HuggingFaceEmbeddings\n",
    "from langchain_community.tools import WikipediaQueryRun, YouTubeSearchTool\n",
    "from langchain_community.utilities import WikipediaAPIWrapper\n",
    "from langchain_community.tools.tavily_search import TavilySearchResults\n"
   ]
  },
  {
   "cell_type": "code",
   "execution_count": null,
   "id": "f37e8bc8",
   "metadata": {},
   "outputs": [],
   "source": [
    "load_dotenv()"
   ]
  },
  {
   "cell_type": "code",
   "execution_count": null,
   "id": "b5109a9b",
   "metadata": {},
   "outputs": [],
   "source": [
    "GOOGLE_API_KEY=os.getenv(\"GOOGLE_API_KEY\")\n",
    "TAVILY_API_KEY=os.getenv(\"TAVILY_API_KEY\")\n",
    "GROQ_API_KEY=os.getenv(\"GROQ_API_KEY\")\n",
    "LANGCHAIN_API_KEY=os.getenv(\"LANGCHAIN_API_KEY\")\n",
    "LANGCHAIN_PROJECT=os. getenv(\"LANGCHAIN_PROJECT\")\n",
    "os.environ[\"GOOGLE_API_KEY\"] = GOOGLE_API_KEY\n",
    "os. environ[\"TAVILY_API_KEY\"] = TAVILY_API_KEY\n",
    "os. environ[\"GROQ_API_KEY\"]= GROQ_API_KEY\n",
    "os. environ[\"LANGCHAIN_API_KEY\"] = LANGCHAIN_API_KEY\n",
    "os.environ[\"LANGCHAIN_TRACING_V2\"] = \"true\"\n",
    "os. environ[\"LANGCHAIN_ENDPOINT\"] = \"https://api.smith. langchain.com\"\n",
    "os. environ[\"LANGCHAIN_PROJECT\"]=LANGCHAIN_PROJECT"
   ]
  },
  {
   "cell_type": "code",
   "execution_count": null,
   "id": "34277d33",
   "metadata": {},
   "outputs": [],
   "source": [
    "llm = ChatGroq(model_name=\"Gemma2-9b-It\")\n",
    "\n",
    "embeddings = HuggingFaceEmbeddings(model_name=\"all-MiniLM-L6-v2\")"
   ]
  },
  {
   "cell_type": "code",
   "execution_count": null,
   "id": "3717a994",
   "metadata": {},
   "outputs": [],
   "source": [
    "llm.invoke(\"Hi\")"
   ]
  },
  {
   "cell_type": "markdown",
   "id": "3fcbfaf6",
   "metadata": {},
   "source": [
    "### Predefine Tools"
   ]
  },
  {
   "cell_type": "code",
   "execution_count": null,
   "id": "dea670fa",
   "metadata": {},
   "outputs": [],
   "source": [
    "api_wrapper = WikipediaAPIWrapper()\n",
    "tool = WikipediaQueryRun(api_wrapper=api_wrapper)"
   ]
  },
  {
   "cell_type": "code",
   "execution_count": null,
   "id": "50c0b666",
   "metadata": {},
   "outputs": [],
   "source": [
    "print(tool.run({\"query\":\"langchain\"}))"
   ]
  },
  {
   "cell_type": "code",
   "execution_count": null,
   "id": "612e8b96",
   "metadata": {},
   "outputs": [],
   "source": [
    "tool_2 = YouTubeSearchTool()\n",
    "tool_2.run(\"freecodecamp\")"
   ]
  },
  {
   "cell_type": "code",
   "execution_count": null,
   "id": "891076b8",
   "metadata": {},
   "outputs": [],
   "source": [
    "tool_3 = TavilySearchResults()\n",
    "tool_3.invoke({\"query\": \"Who is Chris Heria?\"})"
   ]
  },
  {
   "cell_type": "markdown",
   "id": "3fb30118",
   "metadata": {},
   "source": [
    "### Creating a Custom Tool"
   ]
  },
  {
   "cell_type": "code",
   "execution_count": 2,
   "id": "66d95832",
   "metadata": {},
   "outputs": [],
   "source": [
    "from langchain.agents import tool\n",
    "\n",
    "@tool\n",
    "def get_word_length(word:str) -> int:\n",
    "    \"\"\" Return the length of a word. \"\"\"\n",
    "\n",
    "    return len(word)"
   ]
  },
  {
   "cell_type": "code",
   "execution_count": 3,
   "id": "6c967a6e",
   "metadata": {},
   "outputs": [
    {
     "name": "stderr",
     "output_type": "stream",
     "text": [
      "C:\\Users\\hamid\\AppData\\Local\\Temp\\ipykernel_8488\\1732944327.py:1: LangChainDeprecationWarning: The method `BaseTool.__call__` was deprecated in langchain-core 0.1.47 and will be removed in 1.0. Use :meth:`~invoke` instead.\n",
      "  get_word_length(\"abc\")\n"
     ]
    },
    {
     "data": {
      "text/plain": [
       "3"
      ]
     },
     "execution_count": 3,
     "metadata": {},
     "output_type": "execute_result"
    }
   ],
   "source": [
    "get_word_length(\"abc\")"
   ]
  },
  {
   "cell_type": "markdown",
   "id": "b9c3fab8",
   "metadata": {},
   "source": [
    "# Concept of Agents"
   ]
  },
  {
   "cell_type": "code",
   "execution_count": null,
   "id": "3b6dd425",
   "metadata": {},
   "outputs": [],
   "source": [
    "from langchain.agents import AgentType, load_tools, initialize_agent\n"
   ]
  },
  {
   "cell_type": "code",
   "execution_count": null,
   "id": "62f03697",
   "metadata": {},
   "outputs": [],
   "source": [
    "tool_4 = load_tools([\"wikipedia\"], llm=llm)"
   ]
  },
  {
   "cell_type": "markdown",
   "id": "f3ef7a51",
   "metadata": {},
   "source": [
    "### This Agent Class is from the first version of LangChain (legacy)"
   ]
  },
  {
   "cell_type": "code",
   "execution_count": null,
   "id": "626b676f",
   "metadata": {},
   "outputs": [],
   "source": [
    "tool_5 = load_tools([\"wikipedia\"], llm=llm)"
   ]
  },
  {
   "cell_type": "code",
   "execution_count": null,
   "id": "dec46a78",
   "metadata": {},
   "outputs": [],
   "source": [
    "agent = initialize_agent(tools=tool_5, llm=llm, agent=AgentType.ZERO_SHOT_REACT_DESCRIPTION, verbose=True)"
   ]
  },
  {
   "cell_type": "code",
   "execution_count": null,
   "id": "3801c347",
   "metadata": {},
   "outputs": [],
   "source": [
    "agent.run(\"What is current GDP of USA?\")"
   ]
  },
  {
   "cell_type": "code",
   "execution_count": null,
   "id": "1c2b8363",
   "metadata": {},
   "outputs": [],
   "source": [
    "search = TavilySearchResults()"
   ]
  },
  {
   "cell_type": "code",
   "execution_count": null,
   "id": "70bbc801",
   "metadata": {},
   "outputs": [],
   "source": [
    "search.invoke(\"What is the weather in SF?\")"
   ]
  },
  {
   "cell_type": "code",
   "execution_count": null,
   "id": "bc222a87",
   "metadata": {},
   "outputs": [],
   "source": [
    "tools = [search]"
   ]
  },
  {
   "cell_type": "code",
   "execution_count": null,
   "id": "52c16179",
   "metadata": {},
   "outputs": [],
   "source": [
    "from langchain import hub\n",
    "\n",
    "# Get the prompt to use - you can modify this\n",
    "prompt = hub.pull(\"hwchase17/openai-functions-agent\")"
   ]
  },
  {
   "cell_type": "code",
   "execution_count": null,
   "id": "6edf1cc9",
   "metadata": {},
   "outputs": [],
   "source": [
    "from langchain.agents import create_tool_calling_agent\n",
    "\n",
    "agent_1 = create_tool_calling_agent(llm=llm, tools=tools, prompt=prompt)"
   ]
  },
  {
   "cell_type": "code",
   "execution_count": null,
   "id": "414255e9",
   "metadata": {},
   "outputs": [],
   "source": [
    "from langchain.agents import AgentExecutor\n",
    "\n",
    "agent_executor = AgentExecutor(agent=agent_1, tools=tools, verbose=True)"
   ]
  },
  {
   "cell_type": "code",
   "execution_count": null,
   "id": "527a1823",
   "metadata": {},
   "outputs": [],
   "source": [
    "agent_executor.invoke({\"input\": \"Hi\"})"
   ]
  },
  {
   "cell_type": "code",
   "execution_count": null,
   "id": "1e383b0d",
   "metadata": {},
   "outputs": [],
   "source": [
    "agent_executor.invoke({\"input\": \"How is the weather in SF?\"})"
   ]
  },
  {
   "cell_type": "markdown",
   "id": "cb1671c7",
   "metadata": {},
   "source": [
    "# implementing simple RAG"
   ]
  },
  {
   "cell_type": "code",
   "execution_count": 7,
   "id": "3ab6901c",
   "metadata": {},
   "outputs": [
    {
     "name": "stderr",
     "output_type": "stream",
     "text": [
      "USER_AGENT environment variable not set, consider setting it to identify your requests.\n"
     ]
    }
   ],
   "source": [
    "from langchain_community.document_loaders import WebBaseLoader\n",
    "from langchain_community.vectorstores import FAISS\n",
    "from langchain_text_splitters import RecursiveCharacterTextSplitter\n",
    "from langchain import hub\n"
   ]
  },
  {
   "cell_type": "code",
   "execution_count": null,
   "id": "ee8e4889",
   "metadata": {},
   "outputs": [],
   "source": [
    "loader = WebBaseLoader(\"https://blog.langchain.dev/langgraph-studio-the-first-agent-ide/\")\n",
    "\n",
    "docs = loader.load()"
   ]
  },
  {
   "cell_type": "code",
   "execution_count": null,
   "id": "72637877",
   "metadata": {},
   "outputs": [],
   "source": [
    "docs"
   ]
  },
  {
   "cell_type": "code",
   "execution_count": null,
   "id": "0fd5b2f8",
   "metadata": {},
   "outputs": [],
   "source": [
    "documents = RecursiveCharacterTextSplitter(\n",
    "    chunk_size=1000, chunk_overlap=200\n",
    ").split_documents(docs)"
   ]
  },
  {
   "cell_type": "code",
   "execution_count": null,
   "id": "ba1ab033",
   "metadata": {},
   "outputs": [],
   "source": [
    "vector = FAISS.from_documents(documents=documents, embedding=embeddings)\n",
    "\n",
    "retriever = vector.as_retriever()"
   ]
  },
  {
   "cell_type": "code",
   "execution_count": null,
   "id": "5d2801c7",
   "metadata": {},
   "outputs": [],
   "source": [
    "retriever.invoke(\"What is langgraph studio?\")[0]"
   ]
  },
  {
   "cell_type": "code",
   "execution_count": null,
   "id": "57aa0bdc",
   "metadata": {},
   "outputs": [],
   "source": [
    "from langchain.tools.retriever import create_retriever_tool\n",
    "\n",
    "retriever_tool = create_retriever_tool(\n",
    "    retriever=retriever,\n",
    "    \"langgraph_studio\",\n",
    "    \"Search for information about LangGraph. for any questions about LangGraph, you must use this tool!\"\n",
    ")"
   ]
  },
  {
   "cell_type": "code",
   "execution_count": null,
   "id": "6a6d317d",
   "metadata": {},
   "outputs": [],
   "source": [
    "tool_6 = [search, retriever_tool]"
   ]
  },
  {
   "cell_type": "code",
   "execution_count": null,
   "id": "2de84f60",
   "metadata": {},
   "outputs": [],
   "source": [
    "from langchain.agents import create_tool_calling_agent\n",
    "\n",
    "agent_2 = create_tool_calling_agent(llm=llm, tools=tool_6, prompt=prompt)"
   ]
  },
  {
   "cell_type": "code",
   "execution_count": null,
   "id": "6190d6b9",
   "metadata": {},
   "outputs": [],
   "source": [
    "agent_executor_1 = AgentExecutor(agent=agent_2, tools=tool_6, verbose=True)"
   ]
  },
  {
   "cell_type": "code",
   "execution_count": null,
   "id": "a3179347",
   "metadata": {},
   "outputs": [],
   "source": [
    "agent_executor_1.invoke({\"input\": \"What is LangGraph studio and how to use it?\"})"
   ]
  },
  {
   "cell_type": "code",
   "execution_count": null,
   "id": "b07249fb",
   "metadata": {},
   "outputs": [],
   "source": [
    "agent_executor_1.invoke({\"input\": \"What is the weather in SF?\"})"
   ]
  },
  {
   "cell_type": "markdown",
   "id": "9f092181",
   "metadata": {},
   "source": [
    "# React Agent (Reasoning + Acting)"
   ]
  },
  {
   "cell_type": "code",
   "execution_count": null,
   "id": "25d4bc22",
   "metadata": {},
   "outputs": [],
   "source": [
    "from langchain.utilities import GoogleSerperAPIWrapper\n",
    "from langchain_core.prompts import PromptTemplate\n",
    "from langchain.agents import Tool, create_react_agent"
   ]
  },
  {
   "cell_type": "code",
   "execution_count": null,
   "id": "fdea24a0",
   "metadata": {},
   "outputs": [],
   "source": [
    "google_search = GoogleSerperAPIWrapper()\n",
    "\n",
    "tools_1 = [\n",
    "    Tool(\n",
    "        name=\"Web Answer\",\n",
    "        func=google_search.run,\n",
    "        description=\"useful for when you need to ask with search\",\n",
    "        verbose=True\n",
    "    )\n",
    "]"
   ]
  },
  {
   "cell_type": "code",
   "execution_count": 3,
   "id": "ac986a78",
   "metadata": {},
   "outputs": [],
   "source": [
    "template = '''Answer the following questions as best you can. You have access to the following tools:\n",
    "{tools}\n",
    "Use the following format:\n",
    "Question: the input question you must answer\n",
    "Thought: you should always think about what to do\n",
    "Action: the action to take, should be one of [{tool_names}]\n",
    "Action Input: the input to the action\n",
    "Observation: the result of the action\n",
    "... (this Thought/Action/Action Input/Observation can repeat N times)\n",
    "Thought: I now know the final answer\n",
    "Final Answer: the finel answer to the original input question\n",
    "Begin!\n",
    "Question: {input}\n",
    "Thought: {agent_scratchpad}'''"
   ]
  },
  {
   "cell_type": "code",
   "execution_count": 4,
   "id": "c7f728fc",
   "metadata": {},
   "outputs": [],
   "source": [
    "prompt_1 = PromptTemplate.from_template(template=template)"
   ]
  },
  {
   "cell_type": "code",
   "execution_count": null,
   "id": "36e3436f",
   "metadata": {},
   "outputs": [],
   "source": [
    "search_agent = create_react_agent(llm=llm, tools=tools_1, prompt=prompt_1)"
   ]
  },
  {
   "cell_type": "code",
   "execution_count": null,
   "id": "c0e1df0c",
   "metadata": {},
   "outputs": [],
   "source": [
    "agent_executor_2 = AgentExecutor(\n",
    "    agent=search_agent,\n",
    "    tools=tools_1,\n",
    "    verbose=True,\n",
    "    return_intermediate_steps=True\n",
    ")"
   ]
  },
  {
   "cell_type": "code",
   "execution_count": null,
   "id": "9d3ef481",
   "metadata": {},
   "outputs": [],
   "source": [
    "agent_executor_2.invoke({\"input\": \"Where is the hometown of the 2007 T20 Cricket world cup caption winner and his score?\"})"
   ]
  },
  {
   "cell_type": "code",
   "execution_count": null,
   "id": "f319a267",
   "metadata": {},
   "outputs": [],
   "source": [
    "agent_executor_2.invoke({\"input\": \"Who is the father of AI?\"})"
   ]
  },
  {
   "cell_type": "markdown",
   "id": "53e3de57",
   "metadata": {},
   "source": [
    "### ReAct with Custom Tool"
   ]
  },
  {
   "cell_type": "code",
   "execution_count": null,
   "id": "e5c3b624",
   "metadata": {},
   "outputs": [],
   "source": [
    "# Custom tool for the Agent\n",
    "@tool\n",
    "def get_employee_id(name):\n",
    "\n",
    "    \"\"\"To get employee id, it takes employee name as arguments\n",
    "    name(str): Name of the employee\"\"\"\n",
    "\n",
    "    fake_employees = {\n",
    "        \"Alice\": \"E001\",\n",
    "        \"Bob\": \"E002\",\n",
    "        \"Charlie\": \"E003\",\n",
    "        \"Diana\": \"E004\",\n",
    "        \"Evan\": \"E005\",\n",
    "        \"Fiona\": \"E006\",\n",
    "        \"George\": \"E007\",\n",
    "        \"Hannah\": \"E008\",\n",
    "        \"Ian\": \"E009\",\n",
    "        \"Jasmine\": \"E010\"}\n",
    "\n",
    "    return fake_employees.get(name, \"Employee not found\")"
   ]
  },
  {
   "cell_type": "code",
   "execution_count": null,
   "id": "e3bf240c",
   "metadata": {},
   "outputs": [],
   "source": [
    "# Custom tool for the Agent\n",
    "@tool\n",
    "def get_employee_salary(employee_id):\n",
    "\n",
    "    \"\"\"To get the salary of an employee, it takes employee_id as input and return salary\n",
    "    \"\"\"\n",
    "    employee_salaries = {\n",
    "        \"E001\": 56000,\n",
    "        \"E002\": 47000,\n",
    "        \"E003\": 52000,\n",
    "        \"E004\": 61000,\n",
    "        \"E005\": 45000,\n",
    "        \"E006\": 58000,\n",
    "        \"E007\": 49000,\n",
    "        \"E008\": 53000,\n",
    "        \"E009\": 50000,\n",
    "        \"E010\": 55000\n",
    "    }\n",
    "    return employee_salaries.get(employee_id, \"Employee not found\")\n",
    "\n",
    "I"
   ]
  },
  {
   "cell_type": "code",
   "execution_count": null,
   "id": "4c1b8459",
   "metadata": {},
   "outputs": [],
   "source": [
    "# Saved React prompt in langchain hub, we could manually type the prompt as well.\n",
    "prompt_2 = hub.pull(\"hwchase17/react\")"
   ]
  },
  {
   "cell_type": "code",
   "execution_count": null,
   "id": "23906c53",
   "metadata": {},
   "outputs": [],
   "source": [
    "print(prompt_2.template)"
   ]
  },
  {
   "cell_type": "code",
   "execution_count": null,
   "id": "621db91f",
   "metadata": {},
   "outputs": [],
   "source": [
    "tools_list = [get_employee_salary, get_employee_id]"
   ]
  },
  {
   "cell_type": "code",
   "execution_count": null,
   "id": "b5ea35f9",
   "metadata": {},
   "outputs": [],
   "source": [
    "agent_for_employee = create_react_agent(llm=llm, tools=tools_list, prompt=prompt_2)"
   ]
  },
  {
   "cell_type": "code",
   "execution_count": null,
   "id": "5d04cf51",
   "metadata": {},
   "outputs": [],
   "source": [
    "employee_agent_executor = AgentExecutor(agent=agent_for_employee, tools=tools_list, verbose=True)"
   ]
  },
  {
   "cell_type": "code",
   "execution_count": null,
   "id": "479b88aa",
   "metadata": {},
   "outputs": [],
   "source": [
    "agent_for_employee.invoke({\"input\": \"what is the Salary of Evan?\"})"
   ]
  },
  {
   "cell_type": "markdown",
   "id": "39260b57",
   "metadata": {},
   "source": [
    "# Self-Ask with Search Agetn"
   ]
  },
  {
   "cell_type": "code",
   "execution_count": null,
   "id": "c64dd4bb",
   "metadata": {},
   "outputs": [],
   "source": [
    "from langchain_google_genai import GoogleGenerativeAIEmbeddings\n",
    "from langchain_google_genai import ChatGoogleGenerativeAI\n",
    "from langchain import hub\n",
    "from langchain.agents import AgentExecutor, create_self_ask_with_search_agent\n",
    "from langchain_community.tools.tavily_search import TavilyAnswer\n"
   ]
  },
  {
   "cell_type": "code",
   "execution_count": null,
   "id": "832ebf28",
   "metadata": {},
   "outputs": [],
   "source": [
    "embedding_model = GoogleGenerativeAIEmbeddings(model=\"models/embedding-001\")\n",
    "\n",
    "model = ChatGoogleGenerativeAI(model=\"gemini-1.0-pro\")"
   ]
  },
  {
   "cell_type": "code",
   "execution_count": null,
   "id": "8a22dae1",
   "metadata": {},
   "outputs": [],
   "source": [
    "tools_for_gemini = [\n",
    "    Tool(\n",
    "        name=\"Intermediate Answer\",\n",
    "        func=google_search.run,\n",
    "        description=\"useful for when you need to ask with search\",\n",
    "        verbose=True\n",
    "    )\n",
    "]"
   ]
  },
  {
   "cell_type": "code",
   "execution_count": null,
   "id": "584e55f4",
   "metadata": {},
   "outputs": [],
   "source": [
    "# get the prompt to use - you can modify this\n",
    "\n",
    "prompt_for_gemini = hub.pull(\"hwchase17/self-ask-with-search\")"
   ]
  },
  {
   "cell_type": "code",
   "execution_count": null,
   "id": "b68cd05b",
   "metadata": {},
   "outputs": [],
   "source": [
    "print(prompt_for_gemini.temlate)"
   ]
  },
  {
   "cell_type": "code",
   "execution_count": null,
   "id": "4312f9ab",
   "metadata": {},
   "outputs": [],
   "source": [
    "# Create the self ask with search agent\n",
    "\n",
    "self_agent = create_self_ask_with_search_agent(llm=model, tools=tools_for_gemini, prompt=prompt_for_gemini)"
   ]
  },
  {
   "cell_type": "code",
   "execution_count": null,
   "id": "a18fca1f",
   "metadata": {},
   "outputs": [],
   "source": [
    "# create an agent executor by passing in the agent and tools\n",
    "\n",
    "agent_executor_for_gemini = AgentExecutor(agent=self_agent, tools=tools_for_gemini, verbose=True, handle_parsing_errors=True)"
   ]
  },
  {
   "cell_type": "code",
   "execution_count": null,
   "id": "709c6410",
   "metadata": {},
   "outputs": [],
   "source": [
    "agent_executor_for_gemini.invoke(\n",
    "    {\"input\": \"Where is a the biggest AI company?\"}\n",
    ")"
   ]
  },
  {
   "cell_type": "code",
   "execution_count": null,
   "id": "176bf97d",
   "metadata": {},
   "outputs": [],
   "source": [
    "agent_executor_for_gemini.invoke(\n",
    "    {\"input\": \"Which are the most active companies in the world?\"}\n",
    ")"
   ]
  }
 ],
 "metadata": {
  "kernelspec": {
   "display_name": "base",
   "language": "python",
   "name": "python3"
  },
  "language_info": {
   "codemirror_mode": {
    "name": "ipython",
    "version": 3
   },
   "file_extension": ".py",
   "mimetype": "text/x-python",
   "name": "python",
   "nbconvert_exporter": "python",
   "pygments_lexer": "ipython3",
   "version": "3.11.7"
  }
 },
 "nbformat": 4,
 "nbformat_minor": 5
}
