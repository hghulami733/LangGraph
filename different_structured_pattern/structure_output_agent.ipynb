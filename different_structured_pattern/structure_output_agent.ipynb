{
 "cells": [
  {
   "cell_type": "code",
   "execution_count": null,
   "id": "f2da0dcd",
   "metadata": {},
   "outputs": [],
   "source": [
    "from langchain_community.tools.tavily_search import TavilySearchResults\n",
    "from langchain_core.tools import tool\n",
    "from pydantic import BaseModel, Field\n",
    "from langgraph.graph import MessagesState, StateGraph, END\n",
    "from langgraph.prebuilt import ToolNode\n",
    "from langchain_core.messages import HumanMessage\n",
    "from langchain_groq import ChatGroq\n",
    "from IPython.display import Image, display\n"
   ]
  },
  {
   "cell_type": "code",
   "execution_count": null,
   "id": "87ed3537",
   "metadata": {},
   "outputs": [],
   "source": [
    "llm = ChatGroq(model_name=\"Gemma2-9b-It\")"
   ]
  },
  {
   "cell_type": "code",
   "execution_count": null,
   "id": "d31e29c5",
   "metadata": {},
   "outputs": [],
   "source": [
    "tavily_tool = TavilySearchResults()"
   ]
  },
  {
   "cell_type": "code",
   "execution_count": null,
   "id": "c1c5581e",
   "metadata": {},
   "outputs": [],
   "source": [
    "@tool\n",
    "def get_city_details(prompt):\n",
    "    \"Should do a web search to find the required city details\"\n",
    "    response = tavily_tool.invoke(prompt)\n",
    "    return response"
   ]
  },
  {
   "cell_type": "code",
   "execution_count": null,
   "id": "cd51171f",
   "metadata": {},
   "outputs": [],
   "source": [
    "tools = [get_city_details]"
   ]
  },
  {
   "cell_type": "code",
   "execution_count": null,
   "id": "ec561c32",
   "metadata": {},
   "outputs": [],
   "source": [
    "model_with_tools = llm.bind_tools(tools)"
   ]
  },
  {
   "cell_type": "code",
   "execution_count": null,
   "id": "f7ec22c5",
   "metadata": {},
   "outputs": [],
   "source": [
    "class CityDetails(BaseModel):\n",
    "    \"\"\"Respond to the user with this\"\"\"\n",
    "    state_name: str = Field(description=\"State name of the city\")\n",
    "    state_capital: str = Field(description=\"State capital of the city\")\n",
    "    country_name: str = Field(description=\"Country name of the city\")\n",
    "    country_capital: str = Field(description=\"Country capital of the city\")"
   ]
  },
  {
   "cell_type": "code",
   "execution_count": null,
   "id": "96c2a4d2",
   "metadata": {},
   "outputs": [],
   "source": [
    "# inherit 'messages' key from MessagesState, which is a list of chat messages\n",
    "class AgentState(MessagesState):\n",
    "    # Final structured response from the agent\n",
    "    final_response = CityDetails"
   ]
  },
  {
   "cell_type": "code",
   "execution_count": null,
   "id": "214989d0",
   "metadata": {},
   "outputs": [],
   "source": [
    "model_with_structured_output = llm.with_structured_output(CityDetails)"
   ]
  },
  {
   "cell_type": "code",
   "execution_count": null,
   "metadata": {},
   "outputs": [],
   "source": [
    "def call_model(state: AgentState):\n",
    "    print(f\"This is 01 input from call model {state}\")\n",
    "    response = model_with_tools.invoke(state[\"messages\"])\n",
    "    print(f\"This is 02 response from call model {response}\")\n",
    "    # we retruen a list, because this will get added to the existing list\n",
    "    return {\"messages\": [response]}"
   ]
  },
  {
   "cell_type": "code",
   "execution_count": null,
   "id": "f23f2832",
   "metadata": {},
   "outputs": [],
   "source": [
    "def should_continue(state: AgentState):\n",
    "    messages = state[\"messages\"]\n",
    "    last_message = messages[-1]\n",
    "\n",
    "    # if there is no function call, then we respond to user\n",
    "    if not last_message.tool_calls:\n",
    "        return \"respond\"\n",
    "    # Otherwise if there is, we continue with the tool\n",
    "    else:\n",
    "        return \"continue\""
   ]
  },
  {
   "cell_type": "code",
   "execution_count": null,
   "id": "39ed45d0",
   "metadata": {},
   "outputs": [],
   "source": [
    "def respond(state: AgentState):\n",
    "    print(f\"Here is 03 state from response {state}\")\n",
    "    response = model_with_structured_output.invoke([HumanMessage(content=state[\"messages\"][-1].content)])\n",
    "    # we return the final answer\n",
    "    print(f\"This is 04 response from respond {response}\")\n",
    "    return {\"final_response\": response}"
   ]
  },
  {
   "cell_type": "code",
   "execution_count": null,
   "id": "f2694f6d",
   "metadata": {},
   "outputs": [],
   "source": [
    "# Define a new graph\n",
    "workflow = StateGraph(AgentState)\n",
    "\n",
    "# Define the two nodes we will cycle between\n",
    "workflow.add_node(\"llm\", call_model)\n",
    "workflow.add_node(\"tools\", ToolNode(tools=tools))\n",
    "workflow.add_edge(\"respond\", respond)\n",
    "\n",
    "# Set the entrypoint as 'agent'\n",
    "# This means that this node is the first one called\n",
    "workflow.set_entry_point(\"llm\")\n",
    "\n",
    "# We now add a conditional edge\n",
    "workflow.add_conditional_edges(\n",
    "    \"llm\",\n",
    "    should_continue,\n",
    "    {\n",
    "        \"continue\": \"tools\",\n",
    "        \"respond\": \"respond\"\n",
    "    }\n",
    ")\n",
    "\n",
    "workflow.add_edge(\"tools\", \"llm\")\n",
    "workflow.add_edge(\"respond\", END)\n",
    "\n",
    "graph = workflow.compile()"
   ]
  },
  {
   "cell_type": "code",
   "execution_count": null,
   "id": "23c6a707",
   "metadata": {},
   "outputs": [],
   "source": [
    "# View\n",
    "display(Image(graph.get_graph().draw_mermaid_png()))"
   ]
  },
  {
   "cell_type": "code",
   "execution_count": null,
   "id": "0103b345",
   "metadata": {},
   "outputs": [],
   "source": [
    "answer = graph.invoke(input={\"messages\": [(\"human\", \"tell me about city details for Tehran\")]})[\"final_response\"]"
   ]
  },
  {
   "cell_type": "code",
   "execution_count": null,
   "id": "6622e037",
   "metadata": {},
   "outputs": [],
   "source": [
    "answer"
   ]
  }
 ],
 "metadata": {
  "kernelspec": {
   "display_name": "base",
   "language": "python",
   "name": "python3"
  },
  "language_info": {
   "codemirror_mode": {
    "name": "ipython",
    "version": 3
   },
   "file_extension": ".py",
   "mimetype": "text/x-python",
   "name": "python",
   "nbconvert_exporter": "python",
   "pygments_lexer": "ipython3",
   "version": "3.11.7"
  }
 },
 "nbformat": 4,
 "nbformat_minor": 5
}
