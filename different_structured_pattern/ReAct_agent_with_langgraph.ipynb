{
 "cells": [
  {
   "cell_type": "code",
   "execution_count": null,
   "id": "38504cf6",
   "metadata": {},
   "outputs": [],
   "source": [
    "import os\n",
    "from langgraph.graph import MessagesState, StateGraph, END, START\n",
    "from langchain_core.messages import HumanMessage, SystemMessage\n",
    "from langchain_community.tools import DuckDuckGoSearchRun\n",
    "from langgraph.prebuilt import tools_condition # this is the checker for if you got a tool back\n",
    "from langgraph.prebuilt import ToolNode\n",
    "from IPython.display import Image, display\n",
    "from typing import Annotated, TypedDict\n",
    "import operator\n",
    "from langchain_core.messages import AnyMessage\n",
    "from langgraph.graph.message import add_messages\n",
    "from langchain_groq import ChatGroq\n",
    "import yfinance as yf\n"
   ]
  },
  {
   "cell_type": "code",
   "execution_count": null,
   "id": "7db22d0d",
   "metadata": {},
   "outputs": [],
   "source": [
    "llm = ChatGroq(model_name=\"Gemma2-9b-It\")"
   ]
  },
  {
   "cell_type": "code",
   "execution_count": null,
   "id": "83d6bafd",
   "metadata": {},
   "outputs": [],
   "source": [
    "def multiply(a: int, b:int) -> int:\n",
    "    \"\"\"\n",
    "    Multiply a and b.\n",
    "    Args:\n",
    "        a: first int\n",
    "        b: second int\n",
    "    \"\"\"\n",
    "\n",
    "    return a * b"
   ]
  },
  {
   "cell_type": "code",
   "execution_count": null,
   "id": "378ec9d4",
   "metadata": {},
   "outputs": [],
   "source": [
    "def adding(a: int, b:int) -> int:\n",
    "    \"\"\"\n",
    "    add a and b.\n",
    "    Args:\n",
    "        a: first int\n",
    "        b: second int\n",
    "    \"\"\"\n",
    "\n",
    "    return a + b"
   ]
  },
  {
   "cell_type": "code",
   "execution_count": null,
   "id": "0612334e",
   "metadata": {},
   "outputs": [],
   "source": [
    "def divide(a: int, b:int) -> float:\n",
    "    \"\"\"\n",
    "    divide a and b.\n",
    "    Args:\n",
    "        a: first int\n",
    "        b: second int\n",
    "    \"\"\"\n",
    "\n",
    "    return a / b"
   ]
  },
  {
   "cell_type": "code",
   "execution_count": null,
   "id": "db08412d",
   "metadata": {},
   "outputs": [],
   "source": [
    "search = DuckDuckGoSearchRun()"
   ]
  },
  {
   "cell_type": "code",
   "execution_count": null,
   "id": "8530b8e9",
   "metadata": {},
   "outputs": [],
   "source": [
    "search.invoke(\"who is the president of USA?\")"
   ]
  },
  {
   "cell_type": "code",
   "execution_count": null,
   "id": "34e5ae95",
   "metadata": {},
   "outputs": [],
   "source": [
    "tools_1 = [adding, multiply, divide, search]"
   ]
  },
  {
   "cell_type": "code",
   "execution_count": null,
   "id": "1eb9d390",
   "metadata": {},
   "outputs": [],
   "source": [
    "llm_with_tools = llm.bind_tools(tools_1)"
   ]
  },
  {
   "cell_type": "code",
   "execution_count": null,
   "id": "2a8ab447",
   "metadata": {},
   "outputs": [],
   "source": [
    "system_prompt = SystemMessage(content=\"You are a helpful assistant tasked with search and performing arithmetic operation on a set of inputs\")"
   ]
  },
  {
   "cell_type": "code",
   "execution_count": null,
   "id": "b04b7913",
   "metadata": {},
   "outputs": [],
   "source": [
    "def reasoner(state: MessagesState):\n",
    "    return {\"messages\": [llm_with_tools.invoke([system_prompt] + state[\"messages\"])]}"
   ]
  },
  {
   "cell_type": "code",
   "execution_count": null,
   "id": "b777803e",
   "metadata": {},
   "outputs": [],
   "source": [
    "# Graph\n",
    "workflow = StateGraph(MessagesState)\n",
    "\n",
    "# Add nodes\n",
    "workflow.add_node(\"reasoner\", reasoner)\n",
    "workflow.add_node(\"tools\", ToolNode(tools_1)) # for the tools\n",
    "\n",
    "# Add edge\n",
    "workflow.add_edge(START, \"reasoner\")\n",
    "\n",
    "workflow.add_conditional_edges(\n",
    "    \"reasoner\",\n",
    "    # if the latest message (result) from node reasoner is a tool call -> tools_condition routes to tools\n",
    "    # if the latest message (result) from node reasoner is a not tool call -> tools_condition routes to END\n",
    "    tools_condition,\n",
    ")\n",
    "\n",
    "workflow.add_edge(\"tools\", \"reasoner\")\n",
    "\n",
    "react_graph = workflow.compile()"
   ]
  },
  {
   "cell_type": "code",
   "execution_count": null,
   "id": "ee7f3690",
   "metadata": {},
   "outputs": [],
   "source": [
    "# Displaying the graph\n",
    "display(Image(react_graph.get_graph(xray=True).draw_mermaid_png()))"
   ]
  },
  {
   "cell_type": "code",
   "execution_count": null,
   "id": "d1d62c7b",
   "metadata": {},
   "outputs": [],
   "source": [
    "messages = [HumanMessage(content=\"What is 2 times of average human age?\")]"
   ]
  },
  {
   "cell_type": "code",
   "execution_count": null,
   "id": "e16a690a",
   "metadata": {},
   "outputs": [],
   "source": [
    "messages = react_graph.invoke({\"messages\": messages})"
   ]
  },
  {
   "cell_type": "code",
   "execution_count": null,
   "id": "d7de21dc",
   "metadata": {},
   "outputs": [],
   "source": [
    "for m in messages[\"messages\"]:\n",
    "    m.pretty_print()"
   ]
  },
  {
   "cell_type": "code",
   "execution_count": null,
   "id": "d7207b7c",
   "metadata": {},
   "outputs": [],
   "source": [
    "def get_stock_price(ticker: str) -> float:\n",
    "    \"\"\"\n",
    "    Gets stock price from Yahoo Finance.\n",
    "\n",
    "    Args:\n",
    "        ticker: ticker str\n",
    "    \"\"\"\n",
    "    # This is a tool for getting the price of stock when passed a ticker symbol\n",
    "    stock = yf.Ticker(ticker)\n",
    "    return stock.info[\"previousClose\"]"
   ]
  },
  {
   "cell_type": "code",
   "execution_count": null,
   "id": "ff670fd7",
   "metadata": {},
   "outputs": [],
   "source": [
    "get_stock_price(\"AAPL\")"
   ]
  },
  {
   "cell_type": "code",
   "execution_count": null,
   "id": "f90379d8",
   "metadata": {},
   "outputs": [],
   "source": [
    "# Node\n",
    "def reasoner_2(state):\n",
    "    query = state[\"query\"]\n",
    "    messages = state[\"messages\"]\n",
    "\n",
    "    # System message\n",
    "    system_message = SystemMessage(content=\"You are a helpful assistant tasked with using search, the yahoo finance tool and perform arithmetic operations\")\n",
    "    message = HumanMessage(content=query)\n",
    "    messages.append(messages)\n",
    "    result = [llm_with_tools.invoke([system_message] + messages)]\n",
    "    return {\"messages\": result}"
   ]
  },
  {
   "cell_type": "code",
   "execution_count": null,
   "id": "464e161c",
   "metadata": {},
   "outputs": [],
   "source": [
    "tools = [adding, multiply, divide, search, get_stock_price]"
   ]
  },
  {
   "cell_type": "code",
   "execution_count": null,
   "id": "42ddc938",
   "metadata": {},
   "outputs": [],
   "source": [
    "llm_with_tools_1 = llm.bind_tools(tools)"
   ]
  },
  {
   "cell_type": "code",
   "execution_count": null,
   "id": "9f94990b",
   "metadata": {},
   "outputs": [],
   "source": [
    "class GraphState(TypedDict):\n",
    "    \"\"\" State of the graph \"\"\"\n",
    "    query = str\n",
    "    finance = str\n",
    "    final_answer = str\n",
    "    # Intermediate_steps: Annotated[list[tuple[AgentAction, str]], operator.add]\n",
    "\n",
    "    messages: Annotated[list[AnyMessage], operator.add]"
   ]
  },
  {
   "cell_type": "code",
   "execution_count": null,
   "id": "900741ee",
   "metadata": {},
   "outputs": [],
   "source": [
    "# Graph\n",
    "workflow_1 = StateGraph(GraphState)\n",
    "\n",
    "# Add nodes\n",
    "workflow_1.add_node(\"reasoner_2\", reasoner_2)\n",
    "workflow_1.add_node(\"tools\", ToolNode(tools=tools)) # For the tools\n",
    "\n",
    "# Add Edges\n",
    "workflow_1.add_edge(START, \"reasoner_2\")\n",
    "\n",
    "workflow_1.add_conditional_edges(\n",
    "    \"reasoner_2\",\n",
    "    # if the latest message (result) from node reasoner is a tool call -> tools_condition routes to tools\n",
    "    # if the latest message (result) from node reasoner is a not tool call -> tools_condition routes to END\n",
    "    tools_condition\n",
    ")\n",
    "\n",
    "workflow_1.add_edge(\"tools\", \"reasoner_2\")\n",
    "react_graph_1 = workflow_1.compile()"
   ]
  },
  {
   "cell_type": "code",
   "execution_count": null,
   "id": "b4f536c1",
   "metadata": {},
   "outputs": [],
   "source": [
    "# Showing \n",
    "display(Image(react_graph_1.get_graph(xray=True).draw_mermaid_png()))"
   ]
  },
  {
   "cell_type": "code",
   "execution_count": null,
   "id": "1b63a256",
   "metadata": {},
   "outputs": [],
   "source": [
    "response = react_graph_1.invoke({\"query\": \"What is the stock price of Apple adding with 1000?\", \"messages\":[]})"
   ]
  },
  {
   "cell_type": "code",
   "execution_count": null,
   "id": "f8623b9e",
   "metadata": {},
   "outputs": [],
   "source": [
    "for m in response[\"messages\"]:\n",
    "    m.pretty_print()"
   ]
  }
 ],
 "metadata": {
  "kernelspec": {
   "display_name": "base",
   "language": "python",
   "name": "python3"
  },
  "language_info": {
   "codemirror_mode": {
    "name": "ipython",
    "version": 3
   },
   "file_extension": ".py",
   "mimetype": "text/x-python",
   "name": "python",
   "nbconvert_exporter": "python",
   "pygments_lexer": "ipython3",
   "version": "3.11.7"
  }
 },
 "nbformat": 4,
 "nbformat_minor": 5
}
